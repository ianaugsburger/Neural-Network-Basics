{
 "cells": [
  {
   "cell_type": "code",
   "execution_count": 2,
   "metadata": {},
   "outputs": [],
   "source": [
    "import numpy as np\n",
    "import tensorflow as tf\n",
    "from tensorflow.keras import layers, models\n",
    "import matplotlib.pyplot as plt"
   ]
  },
  {
   "cell_type": "markdown",
   "metadata": {},
   "source": [
    "Some small tensor familiarity"
   ]
  },
  {
   "cell_type": "code",
   "execution_count": 3,
   "metadata": {},
   "outputs": [
    {
     "name": "stdout",
     "output_type": "stream",
     "text": [
      "tf.Tensor(\n",
      "[[[0.26894143 0.73105854]\n",
      "  [0.73105854 0.26894143]\n",
      "  [0.880797   0.11920291]]\n",
      "\n",
      " [[0.26894143 0.73105854]\n",
      "  [0.73105854 0.26894143]\n",
      "  [0.880797   0.11920291]]], shape=(2, 3, 2), dtype=float32)\n"
     ]
    }
   ],
   "source": [
    "x=tf.constant([[[1, 2],[3, 2], [4, 2 ]],\n",
    "                       \n",
    "[[1, 2],[3, 2], [4, 2 ]]], dtype=float)\n",
    "y= tf.constant([[[1, 2],[3, 2], [4, 2 ]],\n",
    "                       \n",
    "[[1, 2],[3, 2], [4, 2 ]]])   \n",
    "x1 = x[1,0:1,:]\n",
    "x2 = x[1,:,:]\n",
    "c = tf.constant([[4.0, 5.0], [10.0, 1.0]])\n",
    "print(tf.nn.softmax(x))"
   ]
  },
  {
   "cell_type": "code",
   "execution_count": 9,
   "metadata": {},
   "outputs": [],
   "source": [
    "#The dataset\n",
    "(train_images, train_labels), (test_images, test_labels) = tf.keras.datasets.mnist.load_data()\n",
    "#show = plt.imshow(test_images[21,:,:]/255.0)\n",
    "#normalize\n",
    "test_images_n = test_images/255.0\n",
    "train_images_n = train_images/255.0\n",
    "\n",
    "#instiating the model class in tensorfl\n",
    "pred_model = models.Sequential()\n",
    "\n",
    "pred_model.add(tf.keras.Input(shape=(16,)))\n"
   ]
  },
  {
   "cell_type": "code",
   "execution_count": null,
   "metadata": {},
   "outputs": [],
   "source": []
  }
 ],
 "metadata": {
  "kernelspec": {
   "display_name": "base",
   "language": "python",
   "name": "python3"
  },
  "language_info": {
   "codemirror_mode": {
    "name": "ipython",
    "version": 3
   },
   "file_extension": ".py",
   "mimetype": "text/x-python",
   "name": "python",
   "nbconvert_exporter": "python",
   "pygments_lexer": "ipython3",
   "version": "3.11.9"
  }
 },
 "nbformat": 4,
 "nbformat_minor": 2
}
